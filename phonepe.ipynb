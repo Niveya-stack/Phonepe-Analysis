import os
import json
import pandas as pd
import psycopg2

#aggre_insurance
path1="C:/Users/Nive/Desktop/phonepe/pulse/data/aggregated/insurance/country/india/state/"
agg_insur_list=os.listdir(path1)
columns1={"states":[],"years":[],"Quarter":[],"Transaction_type":[],"Transaction_count":[],"Transaction_amount":[]}

for state in agg_insur_list:
    cur_states=path1+state+"/"
    agg_year_list=os.listdir(cur_states)

    for year in agg_year_list:
        cur_year=cur_states+year+"/"
        agg_file_list=os.listdir(cur_year)

        for file in agg_file_list:
            cur_file=cur_year+file
            data=open(cur_file,"r")

            A=json.load(data)

            for i in A["data"]["transactionData"]:
                name=i["name"]
                count=i["paymentInstruments"][0]["count"]
                amount=i["paymentInstruments"][0]["amount"]
                columns1["Transaction_type"].append(name)
                columns1["Transaction_count"].append(count)
                columns1["Transaction_amount"].append(amount)
                columns1["states"].append(state)
                columns1["years"].append(year)
                columns1["Quarter"].append(int(file.strip(".json")))


aggre_insurance=pd.DataFrame(columns1)

aggre_insurance["states"] = aggre_insurance["states"].str.replace("andaman-&-nicobar-islands","Andaman & Nicobar")
aggre_insurance["states"] = aggre_insurance["states"].str.replace("-"," ")
aggre_insurance["states"] = aggre_insurance["states"].str.title()
aggre_insurance['states'] = aggre_insurance['states'].str.replace("Dadra & Nagar Haveli & Daman & Diu", "Dadra and Nagar Haveli and Daman and Diu")


#aggre_transaction
path2="C:/Users/Nive/Desktop/phonepe/pulse/data/aggregated/transaction/country/india/state/"
agg_tran_list=os.listdir(path2)

columns2={"states":[],"years":[],"Quarter":[],"Transaction_type":[],"Transaction_count":[],"Transaction_amount":[]}
for state in agg_tran_list:
    cur_states=path2+state+"/"
    agg_year_list=os.listdir(cur_states)

    for year in agg_year_list:
        cur_year=cur_states+year+"/"
        agg_file_list=os.listdir(cur_year)

        for file in agg_file_list:
            cur_file=cur_year+file
            data=open(cur_file,"r")

            A=json.load(data)

            for i in A["data"]["transactionData"]:
                name=i["name"]
                count=i["paymentInstruments"][0]["count"]
                amount=i["paymentInstruments"][0]["amount"]
                columns2["Transaction_type"].append(name)
                columns2["Transaction_count"].append(count)
                columns2["Transaction_amount"].append(amount)
                columns2["states"].append(state)
                columns2["years"].append(year)
                columns2["Quarter"].append(int(file.strip(".json")))



aggre_transaction=pd.DataFrame(columns2)
aggre_transaction["states"] = aggre_transaction["states"].str.replace("andaman-&-nicobar-islands","Andaman & Nicobar")
aggre_transaction["states"] = aggre_transaction["states"].str.replace("-"," ")
aggre_transaction["states"] = aggre_transaction["states"].str.title()
aggre_transaction['states'] = aggre_transaction['states'].str.replace("Dadra & Nagar Haveli & Daman & Diu", "Dadra and Nagar Haveli and Daman and Diu")



#aggre_user
path3="C:/Users/Nive/Desktop/phonepe/pulse/data/aggregated/user/country/india/state/"
agg_user_list=os.listdir(path3)

columns3={"states":[],"years":[],"Quarter":[],"Brands":[],"Transaction_count":[],"percentage":[]}
for state in agg_user_list:
    cur_states=path3+state+"/"
    agg_year_list=os.listdir(cur_states)

    for year in agg_year_list:
        cur_year=cur_states+year+"/"
        agg_file_list=os.listdir(cur_year)

        for file in agg_file_list:
            cur_file=cur_year+file
            data=open(cur_file,"r")

            B=json.load(data)
            



            try:
                for i in B["data"]["usersByDevice"]:
                    brand=i["brand"]
                    count=i["count"]
                    percentage=i["percentage"]
                    columns3["Brands"].append(brand)
                    columns3["Transaction_count"].append(count)
                    columns3["percentage"].append(percentage)
                    columns3["states"].append(state)
                    columns3["years"].append(year)
                    columns3["Quarter"].append(int(file.strip(".json")))
            except:
                pass




path4="C:/Users/Nive/Desktop/phonepe/pulse/data/map/transaction/hover/country/india/state/"
map_trans_list=os.listdir(path4)

columns4={"states":[],"years":[],"Quarter":[],"District":[],"Transaction_count":[],"Transaction_amount":[]}
for state in map_trans_list:
    cur_states=path4+state+"/"
    map_year_list=os.listdir(cur_states)

    for year in map_year_list:
        cur_year=cur_states+year+"/"
        map_file_list=os.listdir(cur_year)

        for file in map_file_list:
            cur_file=cur_year+file
            data=open(cur_file,"r")

            C=json.load(data)
            
            
            try:

                for i in C["data"]["hoverDataList"]:
                    name=i["name"]
                    count=i["metric"][0]["count"]
                    amount=i["metric"][0]["amount"]
                    columns4["District"].append(name)
                    columns4["Transaction_count"].append(count)
                    columns4["Transaction_amount"].append(amount)
                    columns4["states"].append(state)
                    columns4["years"].append(year)
                    columns4["Quarter"].append(int(file.strip(".json")))
            except:
                pass
map_transaction=pd.DataFrame(columns4)
map_transaction["states"] = map_transaction["states"].str.replace("andaman-&-nicobar-islands","Andaman & Nicobar")
map_transaction["states"] = map_transaction["states"].str.replace("-"," ")
map_transaction["states"] = map_transaction["states"].str.title()
map_transaction['states'] = map_transaction['states'].str.replace("Dadra & Nagar Haveli & Daman & Diu", "Dadra and Nagar Haveli and Daman and Diu")


#map_user
path5="C:/Users/Nive/Desktop/phonepe/pulse/data/map/user/hover/country/india/state/"
map_user_list = os.listdir(path5)

columns5 = {"states":[], "Years":[], "Quarter":[], "Districts":[], "RegisteredUser":[], "AppOpens":[]}

for state in map_user_list:
    cur_states = path5+state+"/"
    map_year_list = os.listdir(cur_states)
    
    for year in map_year_list:
        cur_years = cur_states+year+"/"
        map_file_list = os.listdir(cur_years)
        
        for file in map_file_list:
            cur_files = cur_years+file
            data = open(cur_files,"r")
            D = json.load(data)
            
            try:
                for i in D["data"]["hoverData"].items():
                    district = i[0]
                    registereduser = i[1]["registeredUsers"]
                    appopens = i[1]["appOpens"]
                    columns5["Districts"].append(district)
                    columns5["RegisteredUser"].append(registereduser)
                    columns5["AppOpens"].append(appopens)
                    columns5["states"].append(state)
                    columns5["Years"].append(year)
                    columns5["Quarter"].append(int(file.strip(".json")))
            except:
                pass

map_user=pd.DataFrame(columns5)
map_user["states"] = map_user["states"].str.replace("andaman-&-nicobar-islands","Andaman & Nicobar")
map_user["states"] = map_user["states"].str.replace("-"," ")
map_user["states"] = map_user["states"].str.title()
map_user["states"] = map_user["states"].str.replace("Dadra & Nagar Haveli & Daman & Diu", "Dadra and Nagar Haveli and Daman and Diu")


#map_insurance
path6="C:/Users/Nive/Desktop/phonepe/pulse/data/map/insurance/hover/country/india/state/"
map_insur_list = os.listdir(path6)

columns6 = {"states":[], "Years":[], "Quarter":[], "Districts":[], "Transaction_count":[], "Transaction_amount":[]}

for state in map_insur_list:
    cur_states = path6+state+"/"
    map_year_list = os.listdir(cur_states)
    
    for year in map_year_list:
        cur_years = cur_states+year+"/"
        map_file_list = os.listdir(cur_years)
        
        for file in map_file_list:
            cur_files = cur_years+file
            data = open(cur_files,"r")
            E = json.load(data)

            try:
                for i in E["data"]["hoverDataList"]:
                    name=i["name"]
                    count=i["metric"][0]["count"]
                    amount=i["metric"][0]["amount"]
                    columns6["Districts"].append(name)
                    columns6["Transaction_count"].append(count)
                    columns6["Transaction_amount"].append(amount)
                    columns6["states"].append(state)
                    columns6["Years"].append(year)
                    columns6["Quarter"].append(int(file.strip(".json")))
            except:
                pass


map_insurance=pd.DataFrame(columns6)
map_insurance["states"] = map_insurance["states"].str.replace("andaman-&-nicobar-islands","Andaman & Nicobar")
map_insurance["states"] = map_insurance["states"].str.replace("-"," ")
map_insurance["states"] = map_insurance["states"].str.title()
map_insurance['states'] = map_insurance['states'].str.replace("Dadra & Nagar Haveli & Daman & Diu", "Dadra and Nagar Haveli and Daman and Diu")




path7="C:/Users/Nive/Desktop/phonepe/pulse/data/top/insurance/country/india/state/"
Top_insur_list = os.listdir(path7)

columns7 = {"States":[], "Years":[], "Quarter":[], "pincodes":[], "Transaction_count":[], "Transaction_amount":[]}

for state in Top_insur_list:
    cur_states = path7+state+"/"
    Top_year_list = os.listdir(cur_states)
    
    for year in Top_year_list:
        cur_years = cur_states+year+"/"
        Top_file_list = os.listdir(cur_years)
        
        for file in Top_file_list:
            cur_files = cur_years+file
            data = open(cur_files,"r")
            F = json.load(data)

            try:
                for i in F["data"]["pincodes"]:
                    entityName=i["entityName"]
                    count=i["metric"]["count"]
                    amount=i["metric"]["amount"]
                    columns7["pincodes"].append(entityName)
                    columns7["Transaction_count"].append(count)
                    columns7["Transaction_amount"].append(amount)
                    columns7["States"].append(state)
                    columns7["Years"].append(year)
                    columns7["Quarter"].append(int(file.strip(".json")))
            except:
                pass


Top_insur=pd.DataFrame(columns7)
Top_insur["States"] = Top_insur["States"].str.replace("andaman-&-nicobar-islands","Andaman & Nicobar")
Top_insur["States"] = Top_insur["States"].str.replace("-"," ")
Top_insur["States"] = Top_insur["States"].str.title()
Top_insur['States'] = Top_insur['States'].str.replace("Dadra & Nagar Haveli & Daman & Diu", "Dadra and Nagar Haveli and Daman and Diu")



Path8="C:/Users/Nive/Desktop/phonepe/pulse/data/top/transaction/country/india/state/"
top_tran_list = os.listdir(Path8)

columns8 = {"states":[], "Years":[], "Quarter":[], "Pincodes":[], "Transaction_count":[], "Transaction_amount":[]}

for state in top_tran_list:
    cur_states = Path8+state+"/"
    top_year_list = os.listdir(cur_states)
    
    for year in top_year_list:
        cur_years = cur_states+year+"/"
        top_file_list = os.listdir(cur_years)
        
        for file in top_file_list:
            cur_files = cur_years+file
            data = open(cur_files,"r")
            G= json.load(data)

            for i in G["data"]["pincodes"]:
                entityName = i["entityName"]
                count = i["metric"]["count"]
                amount = i["metric"]["amount"]
                columns8["Pincodes"].append(entityName)
                columns8["Transaction_count"].append(count)
                columns8["Transaction_amount"].append(amount)
                columns8["states"].append(state)
                columns8["Years"].append(year)
                columns8["Quarter"].append(int(file.strip(".json")))
Top_trans=pd.DataFrame(columns8)
Top_trans["states"] = Top_trans["states"].str.replace("andaman-&-nicobar-islands","Andaman & Nicobar")
Top_trans["states"] = Top_trans["states"].str.replace("-"," ")
Top_trans["states"] = Top_trans["states"].str.title()
Top_trans['states'] = Top_trans['states'].str.replace("Dadra & Nagar Haveli & Daman & Diu", "Dadra and Nagar Haveli and Daman and Diu")


path9="C:/Users/Nive/Desktop/phonepe/pulse/data/top/user/country/india/state/"
top_user_list = os.listdir(path9)

columns9 = {"states":[], "Years":[], "Quarter":[], "Pincodes":[], "registeredUsers":[]}

for state in top_user_list:
    cur_states = path9+state+"/"
    top_year_list = os.listdir(cur_states)

    for year in top_year_list:
        cur_years = cur_states+year+"/"
        top_file_list = os.listdir(cur_years)

        for file in top_file_list:
            cur_files = cur_years+file
            data = open(cur_files,"r")
            H = json.load(data)

            for i in H["data"]["pincodes"]:
                name = i["name"]
                registeredusers = i["registeredUsers"]
                columns9["Pincodes"].append(name)
                columns9["registeredUsers"].append(registeredusers)
                columns9["states"].append(state)
                columns9["Years"].append(year)
                columns9["Quarter"].append(int(file.strip(".json")))



top_user=pd.DataFrame(columns9)
top_user["states"] = top_user["states"].str.replace("andaman-&-nicobar-islands","Andaman & Nicobar")
top_user["states"] = top_user["states"].str.replace("-"," ")
top_user["states"] = top_user["states"].str.title()
top_user['states'] = top_user['states'].str.replace("Dadra & Nagar Haveli & Daman & Diu", "Dadra and Nagar Haveli and Daman and Diu")


mydb=psycopg2.connect(host="localhost",
                      port="5432",
                      database="postgres",
                      user="postgres",
                      password="1402"
                      )
cursor=mydb.cursor()

create_query_1='''CREATE TABLE if not exists aggregated_insurance(states varchar(255),
                                                    years int,
                                                    Quarter int,
                                                    Transaction_type varchar(255),
                                                    Transaction_count bigint,
                                                    Transaction_amount bigint)'''
cursor.execute(create_query_1)
mydb.commit()

insert_query_1='''INSERT INTO aggregated_insurance(states,years,Quarter,Transaction_type,
                                                         Transaction_count,Transaction_amount)
                                                         
                                                         values(%s,%s,%s,%s,%s,%s)'''
data=aggre_insurance.values.tolist()
cursor.executemany(insert_query_1,data)
mydb.commit()




mydb=psycopg2.connect(host="localhost",
                      port="5432",
                      database="postgres",
                      user="postgres",
                      password="1402"
                      )
cursor=mydb.cursor()
create_query_2='''CREATE TABLE if not exists aggregated_transaction(states varchar(255),
                                                    years int,
                                                    Quarter int,
                                                    Transaction_type varchar(255),
                                                    Transaction_count bigint,
                                                    Transaction_amount bigint)'''
cursor.execute(create_query_2)
mydb.commit()

insert_query_2='''INSERT INTO aggregated_transaction(states,years,Quarter,Transaction_type,
                                                         Transaction_count,Transaction_amount)
                                                         
                                                         values(%s,%s,%s,%s,%s,%s)'''
data=aggre_transaction.values.tolist()
cursor.executemany(insert_query_2,data)
mydb.commit()


mydb=psycopg2.connect(host="localhost",
                      port="5432",
                      database="postgres",
                      user="postgres",
                      password="1402"
                      )
cursor=mydb.cursor()
create_query_3='''CREATE TABLE if not exists aggregated_user(states varchar(255),
                                                    years int,
                                                    Quarter int,
                                                    Brands varchar(255),
                                                    Transaction_count bigint,
                                                    percentage bigint)'''
cursor.execute(create_query_3)
mydb.commit()

insert_query_3='''INSERT INTO aggregated_user(states,years,Quarter,Brands,
                                                         Transaction_count,percentage)
                                                         
                                                         values(%s,%s,%s,%s,%s,%s)'''
data=aggre_user.values.tolist()
cursor.executemany(insert_query_3,data)
mydb.commit()


mydb=psycopg2.connect(host="localhost",
                      port="5432",
                      database="postgres",
                      user="postgres",
                      password="1402"
                      )
cursor=mydb.cursor()
create_query_4='''CREATE TABLE if not exists map_insurance(states varchar(255),
                                                    years int,
                                                    Quarter int,
                                                    District varchar(255),
                                                    Transaction_count bigint,
                                                    Transaction_amount bigint)'''
cursor.execute(create_query_4)
mydb.commit()

insert_query_4='''INSERT INTO map_insurance(states,years,Quarter,District,
                                                         Transaction_count,Transaction_amount)
                                                         
                                                         values(%s,%s,%s,%s,%s,%s)'''
data=map_insurance.values.tolist()
cursor.executemany(insert_query_4,data)
mydb.commit()


mydb=psycopg2.connect(host="localhost",
                      port="5432",
                      database="postgres",
                      user="postgres",
                      password="1402"
                      )
cursor=mydb.cursor()
create_query_5='''CREATE TABLE if not exists map_transaction(states varchar(255),
                                                    years int,
                                                    Quarter int,
                                                    District varchar(255),
                                                    Transaction_count bigint,
                                                    Transaction_amount bigint)'''
cursor.execute(create_query_5)
mydb.commit()

insert_query_5='''INSERT INTO map_transaction(states,years,Quarter,District,
                                                         Transaction_count,Transaction_amount)
                                                         
                                                         values(%s,%s,%s,%s,%s,%s)'''
data=map_transaction.values.tolist()
cursor.executemany(insert_query_5,data)
mydb.commit()


mydb=psycopg2.connect(host="localhost",
                      port="5432",
                      database="postgres",
                      user="postgres",
                      password="1402"
                      )
cursor=mydb.cursor()
create_query_6='''CREATE TABLE if not exists map_user(states varchar(255),
                                                    years int,
                                                    Quarter int,
                                                    District varchar(255),
                                                    RegisteredUser bigint,
                                                    AppOpens bigint)'''
cursor.execute(create_query_6)
mydb.commit()

insert_query_6='''INSERT INTO map_user(states,years,Quarter,District,
                                                         RegisteredUser,AppOpens)
                                                         
                                                         values(%s,%s,%s,%s,%s,%s)'''
data=map_user.values.tolist()
cursor.executemany(insert_query_6,data)
mydb.commit()


mydb=psycopg2.connect(host="localhost",
                      port="5432",
                      database="postgres",
                      user="postgres",
                      password="1402"
                      )
cursor=mydb.cursor()
create_query_7='''CREATE TABLE if not exists top_insurance(states varchar(255),
                                                    years int,
                                                    Quarter int,
                                                    pincodes int,
                                                    Transaction_count bigint,
                                                    Transaction_amount bigint)'''
cursor.execute(create_query_7)
mydb.commit()

insert_query_7='''INSERT INTO top_insurance(states,years,Quarter,pincodes,
                                                         Transaction_count,Transaction_amount)
                                                         
                                                         values(%s,%s,%s,%s,%s,%s)'''
data=Top_insur.values.tolist()
cursor.executemany(insert_query_7,data)
mydb.commit()


mydb=psycopg2.connect(host="localhost",
                      port="5432",
                      database="postgres",
                      user="postgres",
                      password="1402"
                      )
cursor=mydb.cursor()
create_query_8='''CREATE TABLE if not exists top_transaction(states varchar(255),
                                                    years int,
                                                    Quarter int,
                                                    pincodes int,
                                                    Transaction_count bigint,
                                                    Transaction_amount bigint)'''
cursor.execute(create_query_8)
mydb.commit()

insert_query_8='''INSERT INTO top_transaction(states,years,Quarter,pincodes,
                                                         Transaction_count,Transaction_amount)
                                                         
                                                         values(%s,%s,%s,%s,%s,%s)'''
data=Top_trans.values.tolist()
cursor.executemany(insert_query_8,data)
mydb.commit()


mydb=psycopg2.connect(host="localhost",
                      port="5432",
                      database="postgres",
                      user="postgres",
                      password="1402"
                      )
cursor=mydb.cursor()
create_query_9='''CREATE TABLE if not exists top_user(states varchar(255),
                                                    years int,
                                                    Quarter int,
                                                    pincodes int,
                                                    registeredUsers bigint)'''
cursor.execute(create_query_9)
mydb.commit()

insert_query_9='''INSERT INTO top_user(states,years,Quarter,pincodes,
                                                         registeredUsers)
                                                         
                                                         values(%s,%s,%s,%s,%s)'''
data=top_user.values.tolist()
cursor.executemany(insert_query_9,data)
mydb.commit()
