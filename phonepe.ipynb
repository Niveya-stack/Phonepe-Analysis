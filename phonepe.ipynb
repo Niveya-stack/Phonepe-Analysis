import psycopg2
import pandas as pd
import plotly.express as px
import requests
import json
mydb=psycopg2.connect(host="localhost",
                      port="5432",
                      database="postgres",
                      user="postgres",
                      password="1402"
                      )
cursor=mydb.cursor()

cursor.execute("SELECT  *FROM aggregated_insurance ")
mydb.commit()
table1=cursor.fetchall()

aggre_insurance=pd.DataFrame(table1, columns=("states" ,"years","Quarter","Transaction_type",
                                                         "Transaction_count","Transaction_amount"))


cursor.execute("SELECT  *FROM aggregated_transaction ")
mydb.commit()
table2=cursor.fetchall()

aggre_transaction=pd.DataFrame(table2, columns=("states","years","Quarter","Transaction_type",
                                                         "Transaction_count","Transaction_amount"))


cursor.execute("SELECT  *FROM aggregated_user ")
mydb.commit()
table3=cursor.fetchall()

aggre_user=pd.DataFrame(table3, columns=("states","years","Quarter","Brands",
                                                         "Transaction_count","percentage"))


cursor.execute("SELECT  *FROM map_insurance ")
mydb.commit()
table4=cursor.fetchall()

map_insurance=pd.DataFrame(table4,columns=("states","years","Quarter","District",
                                                         "Transaction_count","Transaction_amount"))


cursor.execute("SELECT  *FROM map_transaction ")
mydb.commit()
table5=cursor.fetchall()

map_transaction=pd.DataFrame(table5,columns=("states","years","Quarter","District",
                                                         "Transaction_count","Transaction_amount"))


cursor.execute("SELECT  *FROM map_user ")
mydb.commit()
table6=cursor.fetchall()

map_user=pd.DataFrame(table6,columns=("states","years","Quarter","District",
                                                         "RegisteredUser","AppOpens"))


cursor.execute("SELECT  *FROM top_insurance")
mydb.commit()
table7=cursor.fetchall()

top_insur=pd.DataFrame(table7,columns=("states","years","Quarter","pincodes",
                                                         "Transaction_count","Transaction_amount"))


cursor.execute("SELECT  *FROM top_transaction")
mydb.commit()
table8=cursor.fetchall()

top_trans=pd.DataFrame(table8,columns=("states","years","Quarter","pincodes",
                                                         "Transaction_count","Transaction_amount"))



cursor.execute("SELECT  *FROM top_user")
mydb.commit()
table9=cursor.fetchall()

top_user=pd.DataFrame(table9,columns=("states","years","Quarter","pincodes",
                                                         "registeredUsers"))






def transaction_count_amount_y(df,year):
    tacy=df[df["years"]==year]
    tacy.reset_index(drop=True,inplace=True)

    tacyg=tacy.groupby("states")[["Transaction_count","Transaction_amount"]].sum()
    tacyg.reset_index(inplace=True)

    fig_amount=px.bar(tacyg,x="states",y="Transaction_amount",title="f{year} TRANSACTION AMOUNT",
                    color_discrete_sequence=px.colors.sequential.Aggrnyl,height=650,width=650)
    fig_amount.show()

    fig_count=px.bar(tacyg,x="states",y="Transaction_count",title="TRANSACTION COUNT",
                    color_discrete_sequence=px.colors.sequential.Bluered_r,height=650,width=650)
    fig_count.show()
        
    url="https://gist.githubusercontent.com/jbrobst/56c13bbbf9d97d187fea01ca62ea5112/raw/e388c4cae20aa53cb5090210a42ebb9b765c0a36/india_states.geojson"
    response=requests.get(url)
    data1=json.loads(response.content)
    data1
    states_name=[]
    for feature in data1["features"]:
        states_name.append(feature["properties"]["ST_NM"])

    states_name.sort()
    
    fig_india_1=px.choropleth(tacyg, geojson=data1, locations="states", featureidkey="properties.ST_NM",
                              color="Transaction_amount", color_continuous_scale="rainbow",
                              range_color=(tacyg["Transaction_amount"].min(),tacyg["Transaction_amount"].max()),
                              hover_name="states",title="f{year} TRANSACTION_AMOUNT",fitbounds="locations",
                              height=650,width=650)
    fig_india_1.update_geos(visible=False)
    fig_india_1.show()


    fig_india_2=px.choropleth(tacyg, geojson=data1, locations="states", featureidkey="properties.ST_NM",
                              color="Transaction_count", color_continuous_scale="rainbow",
                              range_color=(tacyg["Transaction_count"].min(),tacyg["Transaction_count"].max()),
                              hover_name="states",title="f{year} TRANSACTION_count",fitbounds="locations",
                              height=650,width=650)
    fig_india_2.update_geos(visible=False)
    fig_india_2.show()

    return tacy
    def transaction_count_amount_y_Q(df,quarter):
    tacy=df[df["Quarter"]==quarter]
    tacy.reset_index(drop=True,inplace=True)

    tacyg=tacy.groupby("states")[["Transaction_count","Transaction_amount"]].sum()
    tacyg.reset_index(inplace=True)

    fig_amount=px.bar(tacyg,x="states",y="Transaction_amount",title=f"{tacy["years"].unique()} YEAR{quarter} TRANSACTION AMOUNT",
                    color_discrete_sequence=px.colors.sequential.Aggrnyl,height=650,width=650)
    fig_amount.show()

    fig_count=px.bar(tacyg,x="states",y="Transaction_count",title=f"{tacy["years"].unique()} YEAR{quarter}TRANSACTION COUNT",
                    color_discrete_sequence=px.colors.sequential.Bluered_r,height=650,width=650)
    fig_count.show()
        
    url="https://gist.githubusercontent.com/jbrobst/56c13bbbf9d97d187fea01ca62ea5112/raw/e388c4cae20aa53cb5090210a42ebb9b765c0a36/india_states.geojson"
    response=requests.get(url)
    data1=json.loads(response.content)
    data1
    states_name=[]
    for feature in data1["features"]:
        states_name.append(feature["properties"]["ST_NM"])

    states_name.sort()
    
    fig_india_1=px.choropleth(tacyg, geojson=data1, locations="states", featureidkey="properties.ST_NM",
                              color="Transaction_amount", color_continuous_scale="rainbow",
                              range_color=(tacyg["Transaction_amount"].min(),tacyg["Transaction_amount"].max()),
                              hover_name="states",title=f"{tacy["years"].unique()} YEAR{quarter} TRANSACTION_AMOUNT",fitbounds="locations",
                              height=650,width=650)
    fig_india_1.update_geos(visible=False)
    fig_india_1.show()

    fig_india_2=px.choropleth(tacyg, geojson=data1, locations="states", featureidkey="properties.ST_NM",
                              color="Transaction_count", color_continuous_scale="rainbow",
                              range_color=(tacyg["Transaction_count"].min(),tacyg["Transaction_count"].max()),
                              hover_name="states",title=f"{tacy["years"].unique()} YEAR{quarter} TRANSACTION_count",fitbounds="locations",
                              height=650,width=650)
    fig_india_2.update_geos(visible=False)
    fig_india_2.show()

    return tacy

  def Aggre_Tran_Transaction_type(df, State):

    tacy= df[df["states"] == State]
    tacy.reset_index(drop = True, inplace= True)

    tacyg= tacy.groupby("Transaction_type")[["Transaction_count","Transaction_amount"]].sum()
    tacyg.reset_index(inplace= True)

    
   
    fig_pie_1= px.pie(data_frame= tacyg, names= "Transaction_type", values= "Transaction_amount",
                            width= 600, title= f"{State.upper()} TRANSACTION AMOUNT", hole= 0.5)
    fig_pie_1.show()

    
    fig_pie_2= px.pie(data_frame= tacyg, names= "Transaction_type", values= "Transaction_count",
                            width= 600, title= f"{State.upper()} TRANSACTION COUNT", hole= 0.5)
    fig_pie_2.show()



def Aggre_user_plot_1(df, year):
    aguy= df[df["years"]== year]
    aguy.reset_index(drop= True, inplace= True)

    aguyg= pd.DataFrame(aguy.groupby("Brands")["Transaction_count"].sum())
    aguyg.reset_index(inplace= True)

    fig_bar_1= px.bar(aguyg, x= "Brands", y= "Transaction_count", title= f"{year} BRANDS AND TRANSACTION COUNT",
                    width= 1000, color_discrete_sequence= px.colors.sequential.haline_r, hover_name= "Brands")
    fig_bar_1.show()

    return aguy


def Aggre_user_plot_2(df, quarter):
    aguyq= df[df["Quarter"]== quarter]
    aguyq.reset_index(drop= True, inplace= True)

    aguyqg= pd.DataFrame(aguyq.groupby("Brands")["Transaction_count"].sum())
    aguyqg.reset_index(inplace= True)

    fig_bar_1= px.bar(aguyqg, x= "Brands", y= "Transaction_count", title=  f"{quarter} QUARTER, BRANDS AND TRANSACTION COUNT",
                    width= 1000, color_discrete_sequence= px.colors.sequential.Magenta_r, hover_name="Brands")
    fig_bar_1.show()


def Aggre_user_plot_3(df, state):
    auyqs= df[df["states"] == state]
    auyqs.reset_index(drop= True, inplace= True)

    fig_line_1= px.line(auyqs, x= "Brands", y= "Transaction_count", hover_data= "percentage",
                        title= f"{state.upper()} BRANDS, TRANSACTION COUNT, PERCENTAGE",width= 1000, markers= True)
    fig_line_1.show()



def Map_insur_District(df, state):

    tacy= df[df["states"] == state]
    tacy.reset_index(drop = True, inplace= True)

    tacyg= tacy.groupby("District")[["Transaction_count","Transaction_amount"]].sum()
    tacyg.reset_index(inplace= True)


    fig_bar_1= px.bar(tacyg, x= "Transaction_amount", y= "District", orientation= "h", height= 600,
                        title= f"{state.upper()} DISTRICT AND TRANSACTION AMOUNT", color_discrete_sequence= px.colors.sequential.Mint_r)
    fig_bar_1.show()

    

    fig_bar_2= px.bar(tacyg, x= "Transaction_count", y= "District", orientation= "h", height= 600,
                        title= f"{state.upper()} DISTRICT AND TRANSACTION COUNT", color_discrete_sequence= px.colors.sequential.Bluered_r)
    fig_bar_2.show()


def map_user_plot_1(df, year):
    muy= df[df["years"]== year]
    muy.reset_index(drop= True, inplace= True)

    muyg= muy.groupby("states")[["RegisteredUser", "AppOpens"]].sum()
    muyg.reset_index(inplace= True)

    fig_line_1= px.line(muyg, x= "states", y= ["RegisteredUser", "AppOpens"],
                        title= f"{year} REGISTERED USER, APPOPENS",width= 1000, height= 800, markers= True)
    fig_line_1.show()

    return muy

def map_user_plot_2(df, quarter):
    muyq= df[df["Quarter"]== quarter]
    muyq.reset_index(drop= True, inplace= True)

    muyqg= muyq.groupby("states")[["RegisteredUser", "AppOpens"]].sum()
    muyqg.reset_index(inplace= True)

    fig_line_1= px.line(muyqg, x= "states", y= ["RegisteredUser", "AppOpens"],
                        title= f"{df['years'].min()} YEARS {quarter} QUARTER REGISTERED USER, APPOPENS",width= 1000, height= 800, markers= True,
                        color_discrete_sequence= px.colors.sequential.Rainbow_r)
    fig_line_1.show()

    return muyq



def map_user_plot_3(df, states):
    muyqs= df[df["States"]== states]
    muyqs.reset_index(drop= True, inplace= True)

    
    fig_map_user_bar_1= px.bar(muyqs, x= "RegisteredUser", y= "District", orientation= "h",
                                title= f"{states.upper()} REGISTERED USER", height= 800, color_discrete_sequence= px.colors.sequential.Rainbow_r)
    fig_map_user_bar_1.show()

    

    fig_map_user_bar_2= px.bar(muyqs, x= "AppOpens", y= "District", orientation= "h",
                                title= f"{states.upper()} APPOPENS", height= 800, color_discrete_sequence= px.colors.sequential.Rainbow)
    fig_map_user_bar_2.show()


def Top_insurance_plot_1(df, state):
    tiy= df[df["states"]== state]
    tiy.reset_index(drop= True, inplace= True)

    
    fig_top_insur_bar_1= px.bar(tiy, x= "Quarter", y= "Transaction_amount", hover_data= "pincodes",
                                title= "TRANSACTION AMOUNT", height= 650,width= 600, color_discrete_sequence= px.colors.sequential.GnBu_r)
    fig_top_insur_bar_1.show()

    

    fig_top_insur_bar_2= px.bar(tiy, x= "Quarter", y= "Transaction_count", hover_data= "pincodes",
                                title= "TRANSACTION COUNT", height= 650,width= 600, color_discrete_sequence= px.colors.sequential.Agsunset_r)
    fig_top_insur_bar_2.show()


def top_user_plot_1(df, year):
    tuy= df[df["years"]== year]
    tuy.reset_index(drop= True, inplace= True)

    tuyg= pd.DataFrame(tuy.groupby(["states", "Quarter"])["registeredUsers"].sum())
    tuyg.reset_index(inplace= True)

    fig_top_plot_1= px.bar(tuyg, x= "states", y= "registeredUsers", color= "Quarter", width= 1000, height= 800,
                        color_discrete_sequence= px.colors.sequential.Burgyl, hover_name= "states",
                        title= f"{year} REGISTERED USERS")
    fig_top_plot_1.show()

    return tuy


def top_user_plot_2(df, state):
    tuys= df[df["states"]== state]
    tuys.reset_index(drop= True, inplace= True)

    fig_top_plot_2= px.bar(tuys, x= "Quarter", y= "registeredUsers", title= "REGISTEREDUSERS, PINCODES, QUARTER",
                        width= 1000, height= 800, color= "registeredUsers", hover_data= "pincodes",
                        color_continuous_scale= px.colors.sequential.Magenta)
    fig_top_plot_2.show()





    
